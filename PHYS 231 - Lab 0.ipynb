{
 "cells": [
  {
   "cell_type": "markdown",
   "id": "ac7c66da",
   "metadata": {
    "deletable": false,
    "editable": false,
    "tags": []
   },
   "source": [
    "# <div style=\"background-color:rgba(204, 229, 255, 0.5); text-align:center; vertical-align: middle; padding:40px 0; margin-top:30px\"><span style=\"color:rgba(0, 76, 153, 1);\">PHYS 231 Lab #0</span></div>\n",
    "\n",
    "<p>\n",
    "<center>\n",
    "<img src=\"https://cmps-people.ok.ubc.ca/jbobowsk/phys231/Python/images/PHYS231.png\" alt=\"image info\" style=\"width: 85%; height: auto;\" />\n",
    "</center>\n",
    "</p>"
   ]
  },
  {
   "cell_type": "markdown",
   "id": "df6f1098",
   "metadata": {
    "deletable": false,
    "editable": false,
    "tags": []
   },
   "source": [
    "***\n",
    "## Lab Learning Outcomes:\n",
    "By the end of the PHYS 231 lab, the successful student will be able to:\n",
    "* <b><span style=\"color:rgba(0, 153, 76, 1);\">Design, build, and test practical analog circuits using passive components such as resistor, capacitors, inductors, and diodes.</span></b>\n",
    "* <b><span style=\"color:rgba(0, 153, 76, 1);\">Design, build, and test practical analog circuits using active components such as transistors and op amps.</span></b>\n",
    "* <b><span style=\"color:rgba(0, 153, 76, 1);\">Design, build, and test practical digital circuits using logic gates.</span></b>\n",
    "* <b><span style=\"color:rgba(0, 153, 76, 1);\">Set up an oscilloscope and use it to debug and analyze analog and digital circuits.</span></b>\n",
    "* <b><span style=\"color:rgba(0, 153, 76, 1);\">Use Python and Jupyter Notebooks to analyze data collected from the circuits that you .</span></b>"
   ]
  },
  {
   "cell_type": "markdown",
   "id": "8d3518e7",
   "metadata": {
    "deletable": false,
    "editable": false,
    "tags": []
   },
   "source": [
    "***\n",
    "## Lab Logistics:\n",
    "\n",
    "The lab schedule and lab manuals are available on the course website: https://cmps-people.ok.ubc.ca/jbobowsk/phys231calendar.html\n",
    "\n",
    "You will need to purchase **two** bound notebooks for use in the PHYS 231 labs.  Suitable lab notebooks that are available from the UBC Okanagan bookstore, from cheapest to most expensive, are shown in Fig. 1. \n",
    "\n",
    "<p>\n",
    "<center>\n",
    "<img src=\"https://cmps-people.ok.ubc.ca/jbobowsk/phys231/Python/images/yellow.jpg\" alt=\"image info\" style=\"width: 25%; height: auto;\" /> &nbsp;&nbsp;&nbsp;&nbsp;&nbsp;&nbsp; <img src=\"https://cmps-people.ok.ubc.ca/jbobowsk/phys231/Python/images/blue.jpg\" alt=\"image info\" style=\"width: 25%; height: auto;\" /> &nbsp;&nbsp;&nbsp;&nbsp;&nbsp;&nbsp; <img src=\"https://cmps-people.ok.ubc.ca/jbobowsk/phys231/Python/images/computation.jpg\" alt=\"image info\" style=\"width: 25.3%; height: auto;\" /><br>\n",
    "<b>Fig. 1: Suitable bound lab notebooks available in the UBC Okanagan bookstore.</b></center>\n",
    "</p>\n",
    "\n",
    "Please do not use coil bound notebooks, notepads, or the ubiquitous Hilroy exercise books as PHYS 231 lab notebooks (see Fig. 2).\n",
    "\n",
    "<p>\n",
    "<center>\n",
    "<img src=\"https://cmps-people.ok.ubc.ca/jbobowsk/phys231/Python/images/coil.jpg\" alt=\"image info\" style=\"width: 25%; height: auto;\" /> &nbsp;&nbsp;&nbsp;&nbsp;&nbsp;&nbsp; <img src=\"https://cmps-people.ok.ubc.ca/jbobowsk/phys231/Python/images/notepad.jpg\" alt=\"image info\" style=\"width: 22.7%; height: auto;\" />&nbsp;&nbsp;&nbsp;&nbsp;&nbsp;&nbsp; \n",
    "<img src=\"https://cmps-people.ok.ubc.ca/jbobowsk/phys231/Python/images/hilroy.jpg\" alt=\"image info\" style=\"width: 24%; height: auto;\" /><br>\n",
    "<b>Fig. 2: Notebooks that are not suitable for use in the PHYS 231 lab.</b></center>\n",
    "</p>\n",
    "\n",
    "In the PHYS 231 lab, you will:\n",
    "- Submit the lab notebook (say, notebook No. 1) used to complete Lab $N-1$ at the *start* of Lab $N$.\n",
    "- Complete Lab $N$ using your other notebook (notebook No. 2).\n",
    "- Keep notebook No. 2 with you and complete your write up before the start of Lab $N+1$.\n",
    "- Submit notebook No. 2 at the *start* of Lab $N+1$.  The graded notebook No. 1 will be returned to you and you will use it to complete Lab $N+1$. "
   ]
  },
  {
   "cell_type": "markdown",
   "id": "245cc53a",
   "metadata": {
    "deletable": false,
    "editable": false,
    "tags": []
   },
   "source": [
    "# <div style=\"background-color:rgba(255, 204, 255, 0.5); text-align:center; vertical-align: middle; padding:40px 0; margin-top:30px\"><span style=\"color:rgba(102, 0, 204, 1);\">Part 1 - Installing & Importing Packages</span></div>\n",
    "\n",
    "## The 'installer.Check()' Function:\n",
    "\n",
    "Part 1 of this introductory lab is used to install and import some packages that we will use throughout PHYS 231.  The installation will be done by calling a function called 'Check()' which is contained within the file 'installer.py'.  In order to use 'installer.py', the file must be located in the same directory as the active Jupyter notebook (i.e. the .ipynb file) and then it must be imported into the notebook.  The 'installer.py' file should already be among the files listed in the frame along the left-hand side of the screen.  The file can be imported using the following syntax:\n",
    "```python\n",
    "import installer\n",
    "```\n",
    "The 'Check()' function can then be called using:\n",
    "```python\n",
    "installer.Check()\n",
    "```\n",
    "These two line of code have already been entered into the cell below.  AS you can see, it is possible to have multiple lines of code in each cell.  To start a new line, simply hit the 'Enter' key when your cursor is at the end of the current line.  When you are ready for all of the lines of code in the cell to be executed, place your cursor anywhere within the cell, then hold down the 'Shift' key and hit 'Enter'.\n",
    "\n",
    "'installer.Check()' checks to see if some required Python packages/modules are already installed.  If they are, then the function outputs a message that its okay to proceed.  If one or more of the packages are missing, the function attempts to install them and then outputs a message that the user should completely log out of JupyterLab and then relaunch the notebook.  The next time 'installer.Check()' is run, it should simply confirm that the required packages are already installed.\n",
    "\n",
    "It should only be necessary to install the required packages once.  I recommend calling 'installer.Check()' at the start of all your PHYS 231 Jupyter notebooks as an simple way of confirming that the packages that we will rely on are properly installed."
   ]
  },
  {
   "cell_type": "markdown",
   "id": "490822b2",
   "metadata": {
    "deletable": false,
    "editable": false,
    "tags": []
   },
   "source": [
    "The first time you run 'installer.Check()', the result should be similar to what's shown in the GIF below.  If you get a message saying that some packages were installed, you should log out of Jupyter and relaunch the notebook before proceeding.  If you relaunch the notebook using the link on the course webpage, any changes that you made to the notebook will be saved (provided you hit the save button to the top-right corner of the notebook).\n",
    "\n",
    "<img src=\"https://cmps-people.ok.ubc.ca/jbobowsk/phys231/Python/images/installerFirst.gif\" width=\"1200\"/>\n",
    "\n",
    "The second time you run 'installer.Check()', you **may** still be told that some packages have been installed.  If this is case, select 'Kernel' $\\to$ 'Restart Kernel...' from the menu and then try running the 'installer.Check()' cell again.  The GIF below shows how to restart the Kernel.\n",
    "\n",
    "<img src=\"https://cmps-people.ok.ubc.ca/jbobowsk/phys231/Python/images/RestartKernel.gif\" width=\"1200\"/>\n",
    "\n",
    "Ultimately, running 'installer.Check()' should result in a message that all packages have already been installed and you can proceed to work through the rest of the Jupyter notebook.  See the GIF below.\n",
    "\n",
    "<img src=\"https://cmps-people.ok.ubc.ca/jbobowsk/phys231/Python/images/installerSecond.gif\" width=\"1200\"/>"
   ]
  },
  {
   "cell_type": "markdown",
   "id": "10e9b510",
   "metadata": {},
   "source": [
    "Try running 'installer.Check()' by placing you're cursor inside the code cell below and then hitting 'Shift'+'Enter'."
   ]
  },
  {
   "cell_type": "code",
   "execution_count": null,
   "id": "454d11f5",
   "metadata": {
    "deletable": false,
    "editable": false,
    "tags": []
   },
   "outputs": [],
   "source": [
    "import installer\n",
    "installer.Check()"
   ]
  },
  {
   "cell_type": "markdown",
   "id": "028ec162",
   "metadata": {
    "deletable": false,
    "editable": false,
    "tags": []
   },
   "source": [
    "## Importing Packages/Modules:\n",
    "\n",
    "Once the packages are installed, they can be imported using the notation:\n",
    "```python\n",
    "import packageName\n",
    "```\n",
    "where 'packageName' is the name of the package to be imported.  In the cell below, we import some of the packages that were installed by 'installer.Check()', others that are preinstalled with UBC's Open Jupyter, and others that stored in online at the following urls:\n",
    "- https://cmps-people.ok.ubc.ca/jbobowsk/phys231/Python/data_entry.py\n",
    "- https://cmps-people.ok.ubc.ca/jbobowsk/phys231/Python/PHYS231.py\n",
    "\n",
    "Execute the import statements below by placing your cursor within the code cell and hitting 'Shift' + 'Enter'."
   ]
  },
  {
   "cell_type": "code",
   "execution_count": null,
   "id": "46f579b1",
   "metadata": {
    "deletable": false,
    "editable": false
   },
   "outputs": [],
   "source": [
    "# Import required and commonly-used modules\n",
    "import httpimport\n",
    "import ipysheet\n",
    "import matplotlib.pyplot as plt\n",
    "import numpy as np\n",
    "import uncertainties\n",
    "import otter\n",
    "with httpimport.remote_repo(\n",
    "    [\"data_entry\"], \"https://cmps-people.ok.ubc.ca/jbobowsk/phys231/Python\"\n",
    "):\n",
    "    import data_entry\n",
    "with httpimport.remote_repo(\n",
    "    [\"PHYS231\"], \"https://cmps-people.ok.ubc.ca/jbobowsk/phys231/Python\"\n",
    "):\n",
    "    import PHYS231\n",
    "    \n",
    "# Initialize Otter (for the purposes of auto-grading some cells)\n",
    "grader = otter.Notebook()"
   ]
  },
  {
   "cell_type": "markdown",
   "id": "91ece658",
   "metadata": {
    "deletable": false,
    "editable": false,
    "tags": []
   },
   "source": [
    "# <div style=\"background-color:rgba(255, 204, 255, 0.5); text-align:center; vertical-align: middle; padding:40px 0; margin-top:30px\"><span style=\"color:rgba(102, 0, 204, 1);\">Part 2 - Using Functions from PHYS231.py</span></div>\n",
    "\n",
    "## Spreadsheets\n",
    "\n",
    "We enter or import data into a spreadsheet-like environment using a function called 'Spreadsheet'.  You can call the 'Spreadsheet' function in the following way:\n",
    "```python\n",
    "PHYS231.Spreadsheet('csv_name')\n",
    "```\n",
    "where 'csv_name' can be anything you want as long as it is surrounded by quotation marks.  This name refers to a csv-file, or a file containing a list of '**c**omma-**s**eparated **v**alues'.  If the file 'csv_name.csv' exists and is located in the same directory as your Jupyter notebook (.ipynb file), then the data saved in the file will automatically be loaded into the spreadsheet.  If the file csv file doesn't exist, an empty spreadsheet will be opened.  Any data that you enter into the spreadsheet will then be saved to 'csv_name.csv'.  \n",
    "\n",
    "Additionally, the 'Spreadsheet' function will create a vector for each column of data in your spreadsheet.  The spreadsheet that you create below will have three columns: one called 't' for time, a second called y for position, and a third called 'erry' for the uncertainty in the position.  Once the spreadsheet has been populated with data, a set of vectors called 'v_t', 'v_y' and 'v_erry' will be created.  As you will see, these vectors can then be used in calculations and plots in other cells of the notebook.\n",
    "\n",
    "For additional information about the 'Spreadsheet' function, see **Appendix A** near the end of this notebook. \n",
    "\n",
    "You should see a file called 'Lab0_data.csv' already listed among the files shown the frame along the left-hand side of the screen.  To create a spreadsheet loaded with the data in the csv file, place your cursor in the cell below and hit 'Shift' + 'Enter'."
   ]
  },
  {
   "cell_type": "code",
   "execution_count": null,
   "id": "32382339",
   "metadata": {},
   "outputs": [],
   "source": [
    "PHYS231.Spreadsheet(\"Lab0_data\")"
   ]
  },
  {
   "cell_type": "markdown",
   "id": "5f192f55",
   "metadata": {
    "deletable": false,
    "editable": false,
    "tags": []
   },
   "source": [
    "<!-- BEGIN QUESTION -->\n",
    "\n",
    "## Scatter Plots\n",
    "\n",
    "We can create a scatter plot of the data in the columns of the spreadsheet.  'PHYS231.py' contains a function called 'Scatter()'.  The most basic usage of this function is:\n",
    "```python\n",
    "fig1 = PHYS231.Scatter(v_t, v_y)\n",
    "```\n",
    "which will produce a scatter plot of column y versus column t.  If we add a third argument in the function call, it will produce a scatter plot with error bars.\n",
    "```python\n",
    "fig2 = PHYS231.Scatter(v_t, v_y, v_erry)\n",
    "```\n",
    "Additional options can be included to do some basic formatting.  Executing the following line of code:\n",
    "```python\n",
    "fig3 = PHYS231.Scatter(xData = v_t, yData = v_y, yErrors = v_erry, xlabel = 'time', ylabel = 'position', xUnits = 's', yUnits = 'm')\n",
    "```\n",
    "which will produce a scatter plot with error bars and labeled $x$- and $y$-axes.\n",
    "\n",
    "Each of these examples is demonstrated below.  \n",
    "\n",
    "For additional information about the 'Scatter' function, see **Appendix B** near the end of this notebook. "
   ]
  },
  {
   "cell_type": "code",
   "execution_count": null,
   "id": "3c24022f",
   "metadata": {
    "tags": []
   },
   "outputs": [],
   "source": [
    "fig1 = PHYS231.Scatter(v_t, v_y)"
   ]
  },
  {
   "cell_type": "code",
   "execution_count": null,
   "id": "ffd35d3b",
   "metadata": {
    "tags": []
   },
   "outputs": [],
   "source": [
    "fig2 = PHYS231.Scatter(v_t, v_y, v_erry)"
   ]
  },
  {
   "cell_type": "code",
   "execution_count": null,
   "id": "1d24a833",
   "metadata": {
    "tags": []
   },
   "outputs": [],
   "source": [
    "fig3 = PHYS231.Scatter(\n",
    "    xData=v_t,\n",
    "    yData=v_y,\n",
    "    yErrors=v_erry,\n",
    "    xlabel=\"time\",\n",
    "    ylabel=\"position\",\n",
    "    xUnits=\"s\",\n",
    "    yUnits=\"m\",\n",
    ")"
   ]
  },
  {
   "cell_type": "markdown",
   "id": "553f0059",
   "metadata": {
    "deletable": false,
    "editable": false,
    "tags": []
   },
   "source": [
    "<!-- END QUESTION -->\n",
    "\n",
    "## Linear Fits\n",
    "\n",
    "The final thing that we'll do in Part 2 is fit a straight line through the data shown in the scatter plots above.  Of course, we don't need to use a pre-built function from PHYS231.py to do the fit.  If you're interested in seeing how to write your own code to do linear fits, see the following tutorial: https://cmps-people.ok.ubc.ca/jbobowsk/Python/html/Jupyter%20Weighted%20Linear%20Fit.html. \n",
    "\n",
    "For some common data analysis tasks, such as linear fits, it can be convenient to create functions to complete these repetitive tasks.  The PHYS 231 function that we'll use is called 'LinearFit'.  The most basic call of this function is:\n",
    "```python\n",
    "m, b, dm, db, fig = PHYS231.LinearFit(v_t, v_y)\n",
    "```\n",
    "This results in an *unweighted* fit to the data.  In an unweighted fit, the error bars are ignored when determining the slope and intercept of the best-fit line.\n",
    "\n",
    "In an weighted fit, points with smaller error bars play a larger role in determining the slope and intercept of the best-fit line.  The function call to perform a weighted fit is:\n",
    "```python\n",
    "m, b, dm, db, fig = PHYS231.LinearFit(v_t, v_y, v_erry)\n",
    "```\n",
    "A weighted fit with a formatted plot can be called by using some of the other available arguments:\n",
    "```python\n",
    "m, b, dm, db, fig = PHYS231.LinearFit(xData = v_t, yData = v_y, yErrors = v_erry, xlabel = 'time', ylabel = 'position', xUnits = 's', yUnits = 'm')\n",
    "```\n",
    "A formatted weighted fit of the data from the spreadsheet above is demonstrated in the cell below. \n",
    "\n",
    "For additional information about the 'LinearFit' function, see **Appendix C** near the end of this notebook. "
   ]
  },
  {
   "cell_type": "code",
   "execution_count": null,
   "id": "63f1f360",
   "metadata": {},
   "outputs": [],
   "source": [
    "m, b, dm, db, fig = PHYS231.LinearFit(\n",
    "    xData=v_t,\n",
    "    yData=v_y,\n",
    "    yErrors=v_erry,\n",
    "    xlabel=\"time\",\n",
    "    ylabel=\"position\",\n",
    "    xUnits=\"s\",\n",
    "    yUnits=\"m\",\n",
    ")"
   ]
  },
  {
   "cell_type": "markdown",
   "id": "e1f0c0d6",
   "metadata": {
    "deletable": false,
    "editable": false,
    "tags": []
   },
   "source": [
    "# <div style=\"background-color:rgba(255, 204, 255, 0.5); text-align:center; vertical-align: middle; padding:40px 0; margin-top:30px\"><span style=\"color:rgba(102, 0, 204, 1);\">Part 3 - Basic Operations in Python</span></div>\n",
    "\n",
    "For a set of Python tutorials that are primarily focused on data analysis, see: https://cmps-people.ok.ubc.ca/jbobowsk/Python.html\n",
    "\n",
    "There is a large community of Python users.  Everything I learned about Python, and Jupyter Notebooks, I picked up from Stack Exchange and Stack Overflow.\n",
    "\n",
    "Some things in Python can be done in exactly the way you would guess.  For example, the cells below demonstrate addition, subtraction, multiplication, and division. "
   ]
  },
  {
   "cell_type": "code",
   "execution_count": null,
   "id": "310353e7",
   "metadata": {},
   "outputs": [],
   "source": [
    "3 + 8 - 2"
   ]
  },
  {
   "cell_type": "code",
   "execution_count": null,
   "id": "1ccb8724",
   "metadata": {},
   "outputs": [],
   "source": [
    "3 * 8 / 2"
   ]
  },
  {
   "cell_type": "markdown",
   "id": "25111087",
   "metadata": {
    "deletable": false,
    "editable": false,
    "tags": []
   },
   "source": [
    "Other operation require that we make use of modules.  One of the most common Python modules is 'Numpy'.  It is usually import as:\n",
    "```python\n",
    "import numpy as np\n",
    "```\n",
    "This allows use to call functions from the module using 'np' rather than typing all of 'numpy'.  Note that in this notebook, this import statement was already executed in Part 1 and so does not need to be run again.  Numpy allows us to use trig functions, exponentials and logs, constants such as pi, and many other things.  If you were to try entering something like:\n",
    "```python\n",
    "cos(pi)\n",
    "```\n",
    "into a code cell, it would result in an error.  Feel free to try it!  This operation, however, can be done using numpy as demonstrated in the code cell below."
   ]
  },
  {
   "cell_type": "code",
   "execution_count": null,
   "id": "f5e8ca0f",
   "metadata": {},
   "outputs": [],
   "source": [
    "np.cos(np.pi)"
   ]
  },
  {
   "cell_type": "markdown",
   "id": "5cfc3336",
   "metadata": {},
   "source": [
    "Here are some other examples.  Note that, in Python, np.log(x) is equivalent to ln(x) and np.log10(y) is equivalent to what we would usually write as log(y)."
   ]
  },
  {
   "cell_type": "code",
   "execution_count": null,
   "id": "30e35dca",
   "metadata": {},
   "outputs": [],
   "source": [
    "np.exp(1)"
   ]
  },
  {
   "cell_type": "code",
   "execution_count": null,
   "id": "b08c98df",
   "metadata": {},
   "outputs": [],
   "source": [
    "np.log(np.exp(1))"
   ]
  },
  {
   "cell_type": "code",
   "execution_count": null,
   "id": "f002f11a",
   "metadata": {},
   "outputs": [],
   "source": [
    "np.log10(100)"
   ]
  },
  {
   "cell_type": "code",
   "execution_count": null,
   "id": "9e1f0568",
   "metadata": {},
   "outputs": [],
   "source": [
    "np.arctan(1) / np.pi"
   ]
  },
  {
   "cell_type": "markdown",
   "id": "c9b409ed",
   "metadata": {
    "deletable": false,
    "editable": false,
    "tags": []
   },
   "source": [
    "We'll discuss only one more example of standard mathematical operations.  In Python, to raise a quantity to a power, you can use the double multiplication sign notation as in:\n",
    "```python\n",
    "x**y\n",
    "```\n",
    "which is equivalent to $x^y$.\n",
    "\n",
    "Below is an example of an auto-graded question. **Do not change the variable name**. Fill in the line such that a3 evaluates to $2^8$."
   ]
  },
  {
   "cell_type": "code",
   "execution_count": null,
   "id": "98559a07",
   "metadata": {
    "tags": []
   },
   "outputs": [],
   "source": [
    "a3 ="
   ]
  },
  {
   "cell_type": "markdown",
   "id": "2722a2b6",
   "metadata": {
    "deletable": false,
    "editable": false,
    "tags": []
   },
   "source": [
    "# <div style=\"background-color:rgba(255, 204, 255, 0.5); text-align:center; vertical-align: middle; padding:40px 0; margin-top:30px\"><span style=\"color:rgba(102, 0, 204, 1);\">Part 4 - Feedback and Submission</span></div>"
   ]
  },
  {
   "cell_type": "markdown",
   "id": "cd42e49c",
   "metadata": {
    "deletable": false,
    "editable": false,
    "tags": []
   },
   "source": [
    "***\n",
    "**<span style=\"color:blue\">Question 4.1:</span>**  \n",
    "\n",
    "We welcome your feedback on the PHYS 231 labs!  Please feel free to include any comments you have about this lab in the cell below.  Your comments will be taken into consideration when revising/improving the PHYS 231 labs.  You can suggest improvements, point out anything that was unclear, comment on the strengths and weaknesses of the lab, ...\n",
    "\n",
    "This question is optional and will have no impact on your lab grade."
   ]
  },
  {
   "cell_type": "markdown",
   "id": "8d6f3270",
   "metadata": {},
   "source": [
    "***\n",
    "**<span style=\"color:blue\">Answer 4.1:</span>**\n",
    "\n",
    "[//]: # (Please do not delete this comment or anything above it.  Anything below this comment can be deleted.)  \n",
    "\n",
    "Double click this cell and enter your text here.  When done, hit 'Shift' + 'Enter' to execute the cell.  You may delete this text when entering your answer. "
   ]
  },
  {
   "cell_type": "markdown",
   "id": "7e3775b6",
   "metadata": {
    "deletable": false,
    "editable": false,
    "tags": []
   },
   "source": [
    "***\n",
    "Once you've completed this notebook:\n",
    "- Save your work.\n",
    "- Run 'grader.check_all()' to confirm that you've completed all required tasks.\n",
    "- Run 'grader.export()' to generate a .zip file containing all of the materials that you will submit.\n",
    "- Download the generated .zip file.\n",
    "- Upload the .zip file to the PHYS 231 Canvas gradebook.\n",
    "\n",
    "Here is a GIF showing how these steps are completed.  Once your completed notebook has been uploaded to the Canvas gradebook, you're done!\n",
    "\n",
    "<img src=\"https://cmps-people.ok.ubc.ca/jbobowsk/phys231/Python/images/Submission.gif\" width=\"1200\"/>"
   ]
  },
  {
   "cell_type": "markdown",
   "id": "88ab566e",
   "metadata": {},
   "source": [
    "---\n",
    "\n",
    "To double-check your work, the cell below will rerun all of the autograder tests."
   ]
  },
  {
   "cell_type": "code",
   "execution_count": null,
   "id": "9176d687",
   "metadata": {
    "editable": false
   },
   "outputs": [],
   "source": [
    "grader.check_all()"
   ]
  },
  {
   "cell_type": "markdown",
   "id": "81808979",
   "metadata": {
    "deletable": false,
    "editable": false,
    "tags": []
   },
   "source": [
    "## Submission\n",
    "\n",
    "Make sure you have run all cells in your notebook in order before running the cell below, so that all images/graphs appear in the output. The cell below will generate a zip file for you to submit. **Please save before exporting!**"
   ]
  },
  {
   "cell_type": "code",
   "execution_count": null,
   "id": "176fc3c7",
   "metadata": {
    "editable": false
   },
   "outputs": [],
   "source": [
    "# Save your notebook first, then run this cell to export your submission.\n",
    "grader.export()"
   ]
  },
  {
   "cell_type": "markdown",
   "id": "f2d34f70",
   "metadata": {
    "deletable": false,
    "editable": false,
    "tags": []
   },
   "source": [
    "# <div style=\"background-color:rgba(255, 204, 255, 0.5); text-align:center; vertical-align: middle; padding:40px 0; margin-top:30px\"><span style=\"color:rgba(102, 0, 204, 1);\">Part 5 - Playground (optional)</span></div>\n",
    "\n",
    "Feel free to add as many cells as you like below and use them as a playground for further independent investigations.  These cells won't be graded, so feel free to use them in any way that you like.  "
   ]
  },
  {
   "cell_type": "code",
   "execution_count": null,
   "id": "ff728887",
   "metadata": {},
   "outputs": [],
   "source": [
    "# Here's an empty code cell that you can use."
   ]
  },
  {
   "cell_type": "code",
   "execution_count": null,
   "id": "7fcf5550",
   "metadata": {},
   "outputs": [],
   "source": [
    "# Here's another empty code cell that you can use."
   ]
  },
  {
   "cell_type": "code",
   "execution_count": null,
   "id": "922c01cc",
   "metadata": {},
   "outputs": [],
   "source": [
    "# Here's yet another empty code cell that you can use.\n",
    "# If you need more, you can add cells using the '+' icon in the menu bar at to the top of the screen."
   ]
  },
  {
   "cell_type": "markdown",
   "id": "579f6630",
   "metadata": {
    "deletable": false,
    "editable": false,
    "tags": []
   },
   "source": [
    "### <div style=\"background-color:rgba(255, 255, 102, 0.5); text-align:left; padding:20px 0; margin-top:20px\">$\\quad$Appendix A &ndash; The Spreadsheet Function...</div>\n",
    "\n",
    "The function for generating spreadsheets that can be used for data entry or importing data from a csv (**c**omma-**s**eparated **v**alues) file is called as follows:\n",
    "```python\n",
    "PHYS231.Spreadsheet('csv_name')\n",
    "```\n",
    "There is only a single required input which represents the name of csv file.  If the csv file exists and is located in the same directory as your working Jupyter notebook (.ipynb file), then the data contained in the file will be used to populate the spreadsheet that opens.  If the csv file doesn't exist, then an empty spreadsheet will be opened.  In addition, the file 'csv_name.csv' will be created and it will contain whatever data you enter into the spreadsheet.\n",
    "\n",
    "Furthermore, for each column of data you enter into the spreadsheet, a vector representing a list of values from that column will be created.  For example, if you have a column with named 'position' in the spreadsheet, then a vector called 'v_position' that contains all of the data from that column will be created.  This vector can then be used in other operations such as calculations or plotting.  \n",
    "\n",
    "Our implementation of spreadsheets in Jupyter is based entirely off of a 'data_entry.py' function that was written by Dr. Carl Michal (https://phas.ubc.ca/~michal/). If you're interested in additional details, the source code for 'data_entry.py' can be found here: https://phas.ubc.ca/~michal/data_entry.py.\n",
    "***"
   ]
  },
  {
   "cell_type": "markdown",
   "id": "b399df35",
   "metadata": {
    "deletable": false,
    "editable": false,
    "tags": []
   },
   "source": [
    "### <div style=\"background-color:rgba(255, 255, 102, 0.5); text-align:left; padding:20px 0; margin-top:20px\">$\\quad$Appendix B &ndash; The Scatter Function...</div>\n",
    "\n",
    "The function for generating scatter plots is called as follows:\n",
    "```python\n",
    "PHYS231.Scatter(xData, yData, yErrors = [], xlabel = 'x-axis', ylabel = 'y-axis', xUnits = '', yUnits = '', fill = False, show = True)\n",
    "```\n",
    "The 'xData' and 'yData' inputs are required, all other arguments are optional with default values set.  The function returns the a single output (the formatted plot):\n",
    "```python\n",
    "fig\n",
    "```\n",
    "\n",
    "The function will do a simple scatter plot if no 'yError' are included.  It will included error bars if 'yErrors' are passed to the function.  The 'fill' and 'show' arguments should generally be false.  \n",
    "\n",
    "If the 'xData' list is empty, as in:\n",
    "```python\n",
    "xData = []\n",
    "```\n",
    "then the x-axis will be the trial number.  For example, is 'xData' is empty and 'yData' has 10 elements, the x-axis will span 1 to 10.\n",
    "\n",
    "### Scatter Example Implmentation\n",
    "The code block below shows an implementation of 'Scatter'.\n",
    "```python\n",
    "import PHYS231\n",
    "theta = [10, 20, 30] # degrees\n",
    "T = [2.02, 1.95, 2.13] # s\n",
    "errT = [0.02, 0.02, 0.03] # s\n",
    "fig = PHYS231.Scatter(theta, T, errT, 'initial angle' , 'period', 'degrees', 's')\n",
    "```\n",
    "\n",
    "If you're interested in generating your own plots with customized formatting, see the following Python-based plotting tutorial: https://cmps-people.ok.ubc.ca/jbobowsk/Python/html/Jupyter%20Basic%20Plots.html.\n",
    "***"
   ]
  },
  {
   "cell_type": "markdown",
   "id": "585f3316",
   "metadata": {
    "deletable": false,
    "editable": false,
    "tags": []
   },
   "source": [
    "### <div style=\"background-color:rgba(255, 255, 102, 0.5); text-align:left; padding:20px 0; margin-top:20px\">$\\quad$Appendix C &ndash; The LinearFit Function...</div>\n",
    "\n",
    "The linear-fit function is called as follows:\n",
    "```python\n",
    "PHYS231.LinearFit(xData, yData, yErrors = [], xlabel = 'x-axis', ylabel = 'y-axis', xUnits = '', yUnits = '', fill = False)\n",
    "```\n",
    "The xData and yData lists are required.  The others are optional with default values set.  The function returns the following outputs:\n",
    "```python\n",
    "Slope, Yintercept, errSlope, errYintercept, fig\n",
    "```\n",
    "The first four outputs are numerical values and 'fig' is the formatted plot. \n",
    "\n",
    "If $y$-uncertainities are provided, the function will perform a weighted fit.  The $y$-uncertainties list must be the same length as $x$- and $y$-data lists.  If $y$-uncertainties are not provided, the fit will be unweighted.  The other optional arguments include $x$- and $y$-axis names and units for the $x$- and $y$-datasets.  These must be entered as strings (enclosed in quotations) and they are used for formatting the outputs of the function.  If 'fill' is set to True, shading will be added around the best-fit line representing confindence intervals. \n",
    "\n",
    "### Unweighted Fit Example Implmentation\n",
    "The code block below shows the most basic use of 'LinearFit' for an unweighted fit without any of the optional arguments.\n",
    "```python\n",
    "import PHYS231\n",
    "V = [1, 2, 3, 4]\n",
    "I = [0.12, 0.198, 0.285, 0.412]\n",
    "m, b, dm, db, fig = PHYS231.LinearFit(V, I)\n",
    "```\n",
    "\n",
    "### Weighted Fit Example Implmentation\n",
    "This second blcok of code shows how to use 'LinearFit' to do a weighted fit.  It also makes use of all of the other optional arguments.  \n",
    "```python\n",
    "import PHYS231\n",
    "V = [1, 2, 3, 4]\n",
    "I = [0.12, 0.198, 0.285, 0.412]\n",
    "errI = [0.005, 0.012, 0.020, 0.025]\n",
    "m, b, dm, db, fig = PHYS231.LinearFit(V, I, errI, 'voltage' , 'current', 'V', 'A', True)\n",
    "```\n",
    "\n",
    "The 'm, b, dm, db, fig = ...' syntax is used to store the function outputs in varibles.  If you're interested in details of the fitting process, see the following Python-based tutorial: https://cmps-people.ok.ubc.ca/jbobowsk/Python/html/Jupyter%20Weighted%20Linear%20Fit.html\n",
    "***"
   ]
  },
  {
   "cell_type": "markdown",
   "id": "ac162dd1",
   "metadata": {},
   "source": [
    "Last update: September 8, 2022"
   ]
  },
  {
   "cell_type": "markdown",
   "id": "5854e578",
   "metadata": {},
   "source": [
    " "
   ]
  }
 ],
 "metadata": {
  "kernelspec": {
   "display_name": "Python 3 (ipykernel)",
   "language": "python",
   "name": "python3"
  },
  "language_info": {
   "codemirror_mode": {
    "name": "ipython",
    "version": 3
   },
   "file_extension": ".py",
   "mimetype": "text/x-python",
   "name": "python",
   "nbconvert_exporter": "python",
   "pygments_lexer": "ipython3",
   "version": "3.10.5"
  },
  "otter": {
   "tests": {
    "q3": {
     "name": "q3",
     "points": 1,
     "suites": [
      {
       "cases": [],
       "scored": true,
       "setup": "",
       "teardown": "",
       "type": "doctest"
      }
     ]
    }
   }
  },
  "vscode": {
   "interpreter": {
    "hash": "a1ce1a55934a23fd40442cf0356ecbdd657c4299d40a67360326f76004edb0e0"
   }
  }
 },
 "nbformat": 4,
 "nbformat_minor": 5
}
